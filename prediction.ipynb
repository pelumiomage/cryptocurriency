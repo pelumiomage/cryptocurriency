{
 "cells": [
  {
   "cell_type": "code",
   "execution_count": 67,
   "metadata": {
    "collapsed": true
   },
   "outputs": [],
   "source": [
    "import pandas as pd\n",
    "import numpy as np\n",
    "import pandas_datareader as web\n",
    "from pandas_datareader import data\n",
    "import yfinance as yf\n",
    "from yahoofinancials import YahooFinancials\n",
    "import matplotlib.pyplot as plt\n",
    "import datetime\n",
    "import seaborn as sns\n",
    "from datetime import date, timedelta\n",
    "from statsmodels.tsa.arima_model import ARIMA\n",
    "from statsmodels.tsa.statespace.sarimax import SARIMAX\n",
    "from statsmodels.graphics.tsaplots import plot_acf, plot_pacf\n",
    "from statsmodels.tsa.stattools import adfuller\n",
    "from statsmodels.tsa.seasonal import seasonal_decompose\n",
    "from scipy import stats\n",
    "import statsmodels.api as sm\n",
    "from itertools import product\n",
    "import seaborn as sns\n",
    "import matplotlib.pyplot as plt\n",
    "import warnings\n",
    "warnings.filterwarnings('ignore')\n",
    "from sklearn.preprocessing import  OrdinalEncoder, StandardScaler\n",
    "from sklearn.preprocessing import MinMaxScaler\n",
    "\n",
    "from keras.models import Sequential\n",
    "from keras.layers import Dense, Dropout, LSTM\n",
    "import numpy as np\n",
    "from sklearn.ensemble import RandomForestClassifier\n",
    "%matplotlib inline"
   ]
  },
  {
   "cell_type": "markdown",
   "source": [
    "getting the datast from real time at yahoofinance"
   ],
   "metadata": {
    "collapsed": false
   }
  },
  {
   "cell_type": "code",
   "execution_count": 68,
   "outputs": [
    {
     "name": "stdout",
     "output_type": "stream",
     "text": [
      "[*********************100%***********************]  1 of 1 completed\n"
     ]
    }
   ],
   "source": [
    "end_date = date.today()\n",
    "\n",
    "\n",
    "data_set = yf.download(tickers='BTC-USD', start = '2017-01-01', end = end_date)\n",
    "df = pd.DataFrame(data_set)\n"
   ],
   "metadata": {
    "collapsed": false
   }
  },
  {
   "cell_type": "code",
   "execution_count": null,
   "outputs": [],
   "source": [
    "df"
   ],
   "metadata": {
    "collapsed": false,
    "pycharm": {
     "is_executing": true
    }
   }
  },
  {
   "cell_type": "code",
   "execution_count": 69,
   "outputs": [],
   "source": [
    "#df.to_csv('Bitcoin.csv')"
   ],
   "metadata": {
    "collapsed": false
   }
  },
  {
   "cell_type": "code",
   "execution_count": 70,
   "outputs": [],
   "source": [
    "# dateparse = lambda dates: pd.datetime.strptime(dates, '%Y-%m-%d')\n",
    "#btc_df = pd.read_csv('Bitcoin.csv', parse_dates=['Date'], date_parser=dateparse)\n"
   ],
   "metadata": {
    "collapsed": false
   }
  },
  {
   "cell_type": "code",
   "execution_count": 70,
   "outputs": [],
   "source": [],
   "metadata": {
    "collapsed": false
   }
  },
  {
   "cell_type": "markdown",
   "source": [
    "MONTHLY FORECAST"
   ],
   "metadata": {
    "collapsed": false
   }
  },
  {
   "cell_type": "code",
   "execution_count": 71,
   "outputs": [
    {
     "data": {
      "text/plain": "                    Open          High           Low         Close  \\\nDate                                                                 \n2017-01-31    914.680971    937.449585    887.202387    914.916159   \n2017-02-28   1055.620071   1073.503898   1040.417923   1062.533672   \n2017-03-31   1133.212576   1161.893269   1099.865671   1129.365228   \n2017-04-30   1197.646997   1216.302983   1188.384998   1206.641007   \n2017-05-31   1865.748712   1968.786783   1812.038078   1895.383529   \n...                  ...           ...           ...           ...   \n2022-08-31  22471.866557  22870.607863  22075.572203  22366.266318   \n2022-09-30  19821.353711  20199.349349  19367.072591  19804.779232   \n2022-10-31  19616.090285  19870.064264  19380.976058  19650.525643   \n2022-11-30  17711.480599  18004.313997  17278.805794  17600.814323   \n2022-12-31  17039.847656  17171.663737  16903.367188  17026.474284   \n\n               Adj Close        Volume  \nDate                                    \n2017-01-31    914.916159  1.659346e+08  \n2017-02-28   1062.533672  1.529558e+08  \n2017-03-31   1129.365228  3.507244e+08  \n2017-04-30   1206.641007  3.252483e+08  \n2017-05-31   1895.383529  1.105221e+09  \n...                  ...           ...  \n2022-08-31  22366.266318  2.884492e+10  \n2022-09-30  19804.779232  3.744241e+10  \n2022-10-31  19650.525643  3.090011e+10  \n2022-11-30  17600.814323  4.081772e+10  \n2022-12-31  17026.474284  1.959607e+10  \n\n[72 rows x 6 columns]",
      "text/html": "<div>\n<style scoped>\n    .dataframe tbody tr th:only-of-type {\n        vertical-align: middle;\n    }\n\n    .dataframe tbody tr th {\n        vertical-align: top;\n    }\n\n    .dataframe thead th {\n        text-align: right;\n    }\n</style>\n<table border=\"1\" class=\"dataframe\">\n  <thead>\n    <tr style=\"text-align: right;\">\n      <th></th>\n      <th>Open</th>\n      <th>High</th>\n      <th>Low</th>\n      <th>Close</th>\n      <th>Adj Close</th>\n      <th>Volume</th>\n    </tr>\n    <tr>\n      <th>Date</th>\n      <th></th>\n      <th></th>\n      <th></th>\n      <th></th>\n      <th></th>\n      <th></th>\n    </tr>\n  </thead>\n  <tbody>\n    <tr>\n      <th>2017-01-31</th>\n      <td>914.680971</td>\n      <td>937.449585</td>\n      <td>887.202387</td>\n      <td>914.916159</td>\n      <td>914.916159</td>\n      <td>1.659346e+08</td>\n    </tr>\n    <tr>\n      <th>2017-02-28</th>\n      <td>1055.620071</td>\n      <td>1073.503898</td>\n      <td>1040.417923</td>\n      <td>1062.533672</td>\n      <td>1062.533672</td>\n      <td>1.529558e+08</td>\n    </tr>\n    <tr>\n      <th>2017-03-31</th>\n      <td>1133.212576</td>\n      <td>1161.893269</td>\n      <td>1099.865671</td>\n      <td>1129.365228</td>\n      <td>1129.365228</td>\n      <td>3.507244e+08</td>\n    </tr>\n    <tr>\n      <th>2017-04-30</th>\n      <td>1197.646997</td>\n      <td>1216.302983</td>\n      <td>1188.384998</td>\n      <td>1206.641007</td>\n      <td>1206.641007</td>\n      <td>3.252483e+08</td>\n    </tr>\n    <tr>\n      <th>2017-05-31</th>\n      <td>1865.748712</td>\n      <td>1968.786783</td>\n      <td>1812.038078</td>\n      <td>1895.383529</td>\n      <td>1895.383529</td>\n      <td>1.105221e+09</td>\n    </tr>\n    <tr>\n      <th>...</th>\n      <td>...</td>\n      <td>...</td>\n      <td>...</td>\n      <td>...</td>\n      <td>...</td>\n      <td>...</td>\n    </tr>\n    <tr>\n      <th>2022-08-31</th>\n      <td>22471.866557</td>\n      <td>22870.607863</td>\n      <td>22075.572203</td>\n      <td>22366.266318</td>\n      <td>22366.266318</td>\n      <td>2.884492e+10</td>\n    </tr>\n    <tr>\n      <th>2022-09-30</th>\n      <td>19821.353711</td>\n      <td>20199.349349</td>\n      <td>19367.072591</td>\n      <td>19804.779232</td>\n      <td>19804.779232</td>\n      <td>3.744241e+10</td>\n    </tr>\n    <tr>\n      <th>2022-10-31</th>\n      <td>19616.090285</td>\n      <td>19870.064264</td>\n      <td>19380.976058</td>\n      <td>19650.525643</td>\n      <td>19650.525643</td>\n      <td>3.090011e+10</td>\n    </tr>\n    <tr>\n      <th>2022-11-30</th>\n      <td>17711.480599</td>\n      <td>18004.313997</td>\n      <td>17278.805794</td>\n      <td>17600.814323</td>\n      <td>17600.814323</td>\n      <td>4.081772e+10</td>\n    </tr>\n    <tr>\n      <th>2022-12-31</th>\n      <td>17039.847656</td>\n      <td>17171.663737</td>\n      <td>16903.367188</td>\n      <td>17026.474284</td>\n      <td>17026.474284</td>\n      <td>1.959607e+10</td>\n    </tr>\n  </tbody>\n</table>\n<p>72 rows × 6 columns</p>\n</div>"
     },
     "execution_count": 71,
     "metadata": {},
     "output_type": "execute_result"
    }
   ],
   "source": [
    "df = df.resample('M').mean()\n",
    "df"
   ],
   "metadata": {
    "collapsed": false
   }
  },
  {
   "cell_type": "markdown",
   "source": [
    "seasonality check"
   ],
   "metadata": {
    "collapsed": false
   }
  },
  {
   "cell_type": "code",
   "execution_count": null,
   "outputs": [],
   "source": [
    "seasonal_decompose(df.Close).plot()"
   ],
   "metadata": {
    "collapsed": false,
    "pycharm": {
     "is_executing": true
    }
   }
  },
  {
   "cell_type": "code",
   "execution_count": 75,
   "outputs": [
    {
     "name": "stdout",
     "output_type": "stream",
     "text": [
      "Dickey–Fuller test: p=0.457573\n"
     ]
    }
   ],
   "source": [
    "print(\"Dickey–Fuller test: p=%f\" % adfuller(df.Close)[1])\n"
   ],
   "metadata": {
    "collapsed": false
   }
  },
  {
   "cell_type": "markdown",
   "source": [
    "This indicates that the data is stationary as the p-value is lower than 0.05"
   ],
   "metadata": {
    "collapsed": false
   }
  },
  {
   "cell_type": "code",
   "execution_count": 78,
   "outputs": [
    {
     "name": "stdout",
     "output_type": "stream",
     "text": [
      "Dickey–Fuller test: p=0.208483\n"
     ]
    }
   ],
   "source": [
    "#Box-cox transformation\n",
    "df['close_box'], lmbda = stats.boxcox(df.Close)\n",
    "print(\"Dickey–Fuller test: p=%f\" % adfuller(df.close_box)[1])"
   ],
   "metadata": {
    "collapsed": false
   }
  },
  {
   "cell_type": "markdown",
   "source": [
    "This indicates that the data is stationary as the p-value is higher than 0.05"
   ],
   "metadata": {
    "collapsed": false
   }
  },
  {
   "cell_type": "markdown",
   "source": [
    "Seasonal differentiation"
   ],
   "metadata": {
    "collapsed": false
   }
  },
  {
   "cell_type": "code",
   "execution_count": 79,
   "outputs": [
    {
     "name": "stdout",
     "output_type": "stream",
     "text": [
      "Dickey–Fuller test: p=0.224168\n"
     ]
    }
   ],
   "source": [
    "#seasonal differentiation 12months\n",
    "df['box_diff_seasonal_12'] = df.close_box - df.close_box.shift(12)\n",
    "print(\"Dickey–Fuller test: p=%f\" % adfuller(df.box_diff_seasonal_12[12:])[1])"
   ],
   "metadata": {
    "collapsed": false
   }
  },
  {
   "cell_type": "markdown",
   "source": [
    "This indicates that the data is stationary as the p-value is higher than 0.05"
   ],
   "metadata": {
    "collapsed": false
   }
  },
  {
   "cell_type": "code",
   "execution_count": 80,
   "outputs": [
    {
     "name": "stdout",
     "output_type": "stream",
     "text": [
      "Dickey–Fuller test: p=0.064963\n"
     ]
    }
   ],
   "source": [
    "#seasonal differentiation 12months\n",
    "df['box_diff_seasonal_3'] = df.close_box - df.close_box.shift(3)\n",
    "print(\"Dickey–Fuller test: p=%f\" % adfuller(df.box_diff_seasonal_3[3:])[1])"
   ],
   "metadata": {
    "collapsed": false
   }
  },
  {
   "cell_type": "markdown",
   "source": [
    "his indicates that the data is stationary as the p-value is higher than 0.05"
   ],
   "metadata": {
    "collapsed": false
   }
  }
 ],
 "metadata": {
  "kernelspec": {
   "display_name": "Python 3",
   "language": "python",
   "name": "python3"
  },
  "language_info": {
   "codemirror_mode": {
    "name": "ipython",
    "version": 2
   },
   "file_extension": ".py",
   "mimetype": "text/x-python",
   "name": "python",
   "nbconvert_exporter": "python",
   "pygments_lexer": "ipython2",
   "version": "2.7.6"
  }
 },
 "nbformat": 4,
 "nbformat_minor": 0
}
